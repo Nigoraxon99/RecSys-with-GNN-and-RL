{
 "cells": [
  {
   "cell_type": "code",
   "execution_count": null,
   "id": "749e2049-a722-4a37-ab9b-0a3c24e88be5",
   "metadata": {},
   "outputs": [],
   "source": [
    "import csv\n",
    "from collections import Counter\n",
    "\n",
    "# Define the file paths\n",
    "data_path = 'diginetica/train_item_views.csv'\n",
    "output_path = 'diginetica/filtered_data.dat'\n",
    "\n",
    "# Open the input and output files\n",
    "with open(data_path, 'r') as f_in, open(output_path, 'w', newline='') as f_out:\n",
    "    reader = csv.reader(f_in, delimiter=';')\n",
    "    writer = csv.writer(f_out, delimiter=',')\n",
    "\n",
    "    session_dict = {}\n",
    "    count = 0\n",
    "\n",
    "    # Count the occurrences of each item in the dataset\n",
    "    item_counter = Counter()\n",
    "    for row in reader:\n",
    "        item_counter[row[2]] += 1\n",
    "\n",
    "    # Reset the file pointer to the beginning of the input file\n",
    "    f_in.seek(0)\n",
    "\n",
    "    # Loop through the rows in the input file\n",
    "    for row in reader:\n",
    "        # Extract the session_id and item_id\n",
    "        session_id = row[0]\n",
    "        item_id = row[2]\n",
    "\n",
    "        # Check if the session_id already exists in the dictionary\n",
    "        if session_id in session_dict:\n",
    "            # If it exists, append the item_id to the existing list\n",
    "            session_dict[session_id].append(item_id)\n",
    "        else:\n",
    "            # If it doesn't exist, create a new list with the current item_id\n",
    "            session_dict[session_id] = [item_id]\n",
    "\n",
    "    # Reset the file pointer to the beginning of the input file\n",
    "    f_in.seek(0)\n",
    "\n",
    "    # Loop through the rows in the input file again\n",
    "    for row in reader:\n",
    "        # Extract the session_id and item_id\n",
    "        session_id = row[0]\n",
    "        item_id = row[2]\n",
    "\n",
    "        # Check if the session length is at least 2 and the item appears at least 5 times in the dataset\n",
    "        if len(session_dict[session_id]) >= 2 and item_counter[item_id] >= 5:\n",
    "            # If it is, write the row to the output file\n",
    "            writer.writerow(row)\n",
    "            count += 1\n",
    "\n",
    "    print(f\"Number of rows written to output file: {count}\")\n"
   ]
  },
  {
   "cell_type": "code",
   "execution_count": null,
   "id": "3acabdfb-c49c-4bce-b732-b4e194efa59e",
   "metadata": {},
   "outputs": [],
   "source": []
  },
  {
   "cell_type": "code",
   "execution_count": null,
   "id": "a2685c4a-d4fa-4f86-b20c-8d34ad465683",
   "metadata": {},
   "outputs": [],
   "source": []
  },
  {
   "cell_type": "code",
   "execution_count": null,
   "id": "1e1cb2af-86f8-42f5-b1e1-858e7e780a4a",
   "metadata": {},
   "outputs": [],
   "source": []
  },
  {
   "cell_type": "code",
   "execution_count": null,
   "id": "9d43e3a0-5a57-4cc0-ab69-7331e666f7a4",
   "metadata": {},
   "outputs": [],
   "source": []
  }
 ],
 "metadata": {
  "kernelspec": {
   "display_name": "Python 3",
   "language": "python",
   "name": "python3"
  },
  "language_info": {
   "codemirror_mode": {
    "name": "ipython",
    "version": 3
   },
   "file_extension": ".py",
   "mimetype": "text/x-python",
   "name": "python",
   "nbconvert_exporter": "python",
   "pygments_lexer": "ipython3",
   "version": "3.9.16"
  }
 },
 "nbformat": 4,
 "nbformat_minor": 5
}
