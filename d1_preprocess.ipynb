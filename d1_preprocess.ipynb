{
 "cells": [
  {
   "cell_type": "code",
   "execution_count": 3,
   "id": "88eed4db-0c83-480f-a81d-b4ae17262155",
   "metadata": {},
   "outputs": [],
   "source": [
    "# preprocessing YOOCHOOSE\n",
    "\n",
    "import csv\n",
    "from collections import Counter\n",
    "\n",
    "# Define the file paths\n",
    "data_path = 'yoochoose_dataset/yoochoose-clicks.dat'\n",
    "output_path = 'yoochoose_dataset/filtered_clicks.dat'\n",
    "\n",
    "# Open the input and output files\n",
    "with open(data_path, 'r') as f_in, open(output_path, 'w', newline='') as f_out:\n",
    "    reader = csv.reader(f_in, delimiter=',')\n",
    "    writer = csv.writer(f_out, delimiter=',')\n",
    "    \n",
    "    session_dict = {}\n",
    "    count = 0\n",
    "    \n",
    "    # Count the occurrences of each item in the dataset\n",
    "    item_counter = Counter()\n",
    "    for row in reader:\n",
    "        item_counter[row[2]] += 1\n",
    "    \n",
    "    # Reset the file pointer to the beginning of the input file\n",
    "    f_in.seek(0)\n",
    "    \n",
    "    # Loop through the rows in the input file\n",
    "    for row in reader:\n",
    "        # Extract the session_id and item_id\n",
    "        session_id = row[0]\n",
    "        item_id = row[2]\n",
    "        \n",
    "        # Check if the session_id already exists in the dictionary\n",
    "        if session_id in session_dict:\n",
    "            # If it exists, append the item_id to the existing list\n",
    "            session_dict[session_id].append(item_id)\n",
    "        else:\n",
    "            # If it doesn't exist, create a new list with the current item_id\n",
    "            session_dict[session_id] = [item_id]\n",
    "        \n",
    "        # Check if the session length is at least 2 and the item appears at least 5 times in the dataset\n",
    "        if item_counter[item_id] >= 5 and len(session_dict[session_id]) >= 2:\n",
    "            # If it is, write the row to the output file\n",
    "            writer.writerow(row)\n",
    "            count += 1\n",
    "        \n",
    "        # Check if we've written 10000 rows to the output file\n",
    "        if count == 37000:\n",
    "            break"
   ]
  },
  {
   "cell_type": "code",
   "execution_count": null,
   "id": "11244039-c9d6-4ac0-af60-94a82f226330",
   "metadata": {},
   "outputs": [],
   "source": []
  },
  {
   "cell_type": "code",
   "execution_count": null,
   "id": "ea6d8a1d-3bd6-45a0-b037-0ef017d0a0f5",
   "metadata": {},
   "outputs": [],
   "source": []
  }
 ],
 "metadata": {
  "kernelspec": {
   "display_name": "Python 3",
   "language": "python",
   "name": "python3"
  },
  "language_info": {
   "codemirror_mode": {
    "name": "ipython",
    "version": 3
   },
   "file_extension": ".py",
   "mimetype": "text/x-python",
   "name": "python",
   "nbconvert_exporter": "python",
   "pygments_lexer": "ipython3",
   "version": "3.9.16"
  }
 },
 "nbformat": 4,
 "nbformat_minor": 5
}
